{
 "cells": [
  {
   "cell_type": "markdown",
   "metadata": {},
   "source": [
    "# Sentiment Analysis of Svevo Letter Corpus\n",
    "\n",
    "### Part 1: Extracting Sentiment Intensity\n",
    "\n",
    "We use the `syuzhet` library in order to extract sentiment intensity from the whole corpus (all languages included).\n",
    "Final purpose is to produce a `sentiment.csv` file, to be used in the sentiment analysis evaluation part."
   ]
  },
  {
   "cell_type": "code",
   "execution_count": 1,
   "metadata": {},
   "outputs": [],
   "source": [
    "# Ignore library warnings\n",
    "options(warn=-1)"
   ]
  },
  {
   "cell_type": "code",
   "execution_count": 3,
   "metadata": {},
   "outputs": [],
   "source": [
    "library(syuzhet)\n",
    "library(dplyr)\n",
    "library(pander)"
   ]
  },
  {
   "cell_type": "code",
   "execution_count": 4,
   "metadata": {},
   "outputs": [],
   "source": [
    "data <- read.csv(\"datasets/carteggio.svevo3.csv\", header = TRUE, sep = \";\")\n",
    "data[\"text\"] <- lapply(data[\"text\"], as.character)\n",
    "data[\"mainLanguage\"] <- lapply(data[\"mainLanguage\"], as.character)"
   ]
  },
  {
   "cell_type": "code",
   "execution_count": 5,
   "metadata": {},
   "outputs": [],
   "source": [
    "lang <- c(\"italian\", \"english\", \"french\", \"german\")\n",
    "names(lang) <- c(\"ITA\", \"ENG\", \"FRE\", \"GER\")\n",
    "sent = data.frame(anger = numeric(), anticipation = numeric(), disgust = numeric(), fear = numeric(),\n",
    "                joy = numeric(), sadness = numeric(), surprise = numeric(), trust = numeric(),\n",
    "                negative = numeric(), positive = numeric())"
   ]
  },
  {
   "cell_type": "code",
   "execution_count": 6,
   "metadata": {},
   "outputs": [],
   "source": [
    "for (row in 1:nrow(data)) {\n",
    "    text <- data[row, \"text\"]\n",
    "    language <- data[row, \"mainLanguage\"]\n",
    "    s_v = get_sentences(text)\n",
    "    nrc_data <- get_nrc_sentiment(s_v, lang=lang[[language]])\n",
    "    test <- data.frame(t(colSums(nrc_data)))\n",
    "    sent <- rbind(sent, test)\n",
    "}\n",
    "write.csv(sent, file=\"datasets/sentiment.csv\")"
   ]
  }
 ],
 "metadata": {
  "kernelspec": {
   "display_name": "R",
   "language": "R",
   "name": "ir"
  },
  "language_info": {
   "codemirror_mode": "r",
   "file_extension": ".r",
   "mimetype": "text/x-r-source",
   "name": "R",
   "pygments_lexer": "r",
   "version": "3.5.2"
  }
 },
 "nbformat": 4,
 "nbformat_minor": 2
}
